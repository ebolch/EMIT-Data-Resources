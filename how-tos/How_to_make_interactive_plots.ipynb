{
 "cells": [
  {
   "cell_type": "markdown",
   "id": "172e6e55-246d-4528-ba17-0ca16932f92b",
   "metadata": {},
   "source": [
    "# How to Make Interactive Plots for EMIT\n",
    "\n",
    "**This notebook is under development. A few caveats:\n",
    "1. This uses a lot of memory 25+GB and may not run great locally, sometimes there is a delay with the visualization tools.\n",
    "2. This has primarily tested using a JupyterHub cloud computing instance to access EMIT data via s3. \n",
    "3. This requires Earthdata Login credentials stored in a .netrc file.\n",
    "4. Some portions of the plotting are hard-coded and currently only works with orthorectified data.\n",
    "\n",
    "To use locally, you will need to download the granules you want (L2A Reflectance, L2A Reflectance Uncertainty, and L2A Mask) or stream using HTTPS (slow) and set them equal to the `fp` filepath variables the third cell below."
   ]
  },
  {
   "cell_type": "code",
   "execution_count": null,
   "id": "3e686525-1618-4ae6-8c3f-1d1757490bfa",
   "metadata": {
    "tags": []
   },
   "outputs": [],
   "source": [
    "!pip install spectral"
   ]
  },
  {
   "cell_type": "code",
   "execution_count": null,
   "id": "cd7b5e1e-5004-496e-b5cf-242b5b145954",
   "metadata": {
    "tags": []
   },
   "outputs": [],
   "source": [
    "# Import Packages\n",
    "import math\n",
    "import requests\n",
    "import pandas as pd\n",
    "import datetime as dt\n",
    "import geopandas as gp\n",
    "from shapely.geometry import MultiPolygon, Polygon, box\n",
    "import os\n",
    "import sys\n",
    "import s3fs\n",
    "from osgeo import gdal\n",
    "import numpy as np\n",
    "import xarray as xr\n",
    "import hvplot.xarray\n",
    "import hvplot.pandas\n",
    "import holoviews as hv\n",
    "import geopandas as gpd\n",
    "import panel as pn\n",
    "sys.path.append('../modules/')\n",
    "import emit_tools as et"
   ]
  },
  {
   "cell_type": "markdown",
   "id": "08d1ab5a-1625-4609-aa99-94013abd7b73",
   "metadata": {},
   "source": [
    "Get AWS credentials"
   ]
  },
  {
   "cell_type": "code",
   "execution_count": null,
   "id": "280edddc-e045-46b0-9da8-596c1458de54",
   "metadata": {
    "tags": []
   },
   "outputs": [],
   "source": [
    "# Get AWS credentials\n",
    "temp_creds_req = requests.get('https://data.lpdaac.earthdatacloud.nasa.gov/s3credentials').json() # use lpdaac credential endpoint for EMIT data\n",
    "# Create s3fs session\n",
    "fs_s3 = s3fs.S3FileSystem(anon=False, \n",
    "                          key=temp_creds_req['accessKeyId'], \n",
    "                          secret=temp_creds_req['secretAccessKey'], \n",
    "                          token=temp_creds_req['sessionToken'])"
   ]
  },
  {
   "cell_type": "markdown",
   "id": "06961aa6-12b6-47d1-b670-ff60065d71ee",
   "metadata": {},
   "source": [
    "Assign granules to objects - here to run locally, download these granules via earthdata search"
   ]
  },
  {
   "cell_type": "code",
   "execution_count": null,
   "id": "38ecaa80-5a7b-4aa4-861d-7f22bf72189f",
   "metadata": {
    "tags": []
   },
   "outputs": [],
   "source": [
    "fp_rfl = fs_s3.open('s3://lp-prod-protected/EMITL2ARFL.001/EMIT_L2A_RFL_001_20230413T112349_2310308_001/EMIT_L2A_RFL_001_20230413T112349_2310308_001.nc', mode='rb')\n",
    "fp_unc = fs_s3.open('s3://lp-prod-protected/EMITL2ARFL.001/EMIT_L2A_RFL_001_20230413T112349_2310308_001/EMIT_L2A_RFLUNCERT_001_20230413T112349_2310308_001.nc', mode='rb')\n",
    "fp_mask = fs_s3.open('s3://lp-prod-protected/EMITL2ARFL.001/EMIT_L2A_RFL_001_20230413T112349_2310308_001/EMIT_L2A_MASK_001_20230413T112349_2310308_001.nc', mode='rb')"
   ]
  },
  {
   "cell_type": "markdown",
   "id": "41539478-e73b-4d30-9f19-d64f5ded9d11",
   "metadata": {},
   "source": [
    "Open datasets in xarray using `emit_xarray` function. Take a look at `emit_tools.py` for details. This function rearranges and flattens the dataset,\n",
    "and also offers an option to orthorectify using the provided GLT"
   ]
  },
  {
   "cell_type": "code",
   "execution_count": null,
   "id": "0c2d9413-3c5b-4e9a-99e5-ad4a6c3ef046",
   "metadata": {
    "tags": []
   },
   "outputs": [],
   "source": [
    "rfl  = et.emit_xarray(fp_rfl, ortho=True)\n",
    "unc = et.emit_xarray(fp_unc, ortho=True)\n",
    "# Merge Reflectance and Uncertainty Datasets\n",
    "ds = xr.merge([rfl,unc])\n",
    "del rfl\n",
    "del unc\n",
    "ds_mask = et.emit_xarray(fp_mask, ortho=True)"
   ]
  },
  {
   "cell_type": "markdown",
   "id": "c9db5fc5-5656-4173-88a1-ec824dcf6e1d",
   "metadata": {},
   "source": [
    "Quickly create a polygon to use for clipping using geopandas."
   ]
  },
  {
   "cell_type": "code",
   "execution_count": null,
   "id": "6bf0027c-9a58-41ec-b1d1-e2b722e8253b",
   "metadata": {
    "tags": []
   },
   "outputs": [],
   "source": [
    "lon_pts = [-3.91, -3.22, -3.085, -2.967, -3.061,-3.91]\n",
    "lat_pts = [51.23, 51.16, 51.158, 51.247, 51.31, 51.23]\n",
    "polygon_geom = Polygon(zip(lon_pts, lat_pts))\n",
    "polygon = gpd.GeoDataFrame(index=[0], crs='epsg:4326', geometry=[polygon_geom])"
   ]
  },
  {
   "cell_type": "markdown",
   "id": "6ccdd4fc-20dd-454e-8691-7527a5778170",
   "metadata": {},
   "source": [
    "Clip the data to our area of interest. This makes the data size more managable. The interactive plots will work without this step, but may be slow for several reasons, such as:\n",
    "- large file size\n",
    "- slow data streaming since EMIT is not chunked\n",
    "- inefficiencies in code (probably mine)"
   ]
  },
  {
   "cell_type": "code",
   "execution_count": null,
   "id": "02264770-2d71-460b-9935-cbaa1172f4d5",
   "metadata": {
    "tags": []
   },
   "outputs": [],
   "source": [
    "ds = ds.rio.clip(polygon.geometry.values,polygon.crs, all_touched=True)\n",
    "ds_mask = ds_mask.rio.clip(polygon.geometry.values,polygon.crs, all_touched=True)"
   ]
  },
  {
   "cell_type": "markdown",
   "id": "1cdce5ab-adf1-49cb-a075-b9b820c36287",
   "metadata": {},
   "source": [
    "Calculate Min/Max reflectance using uncertainty for error bars in spectral plot."
   ]
  },
  {
   "cell_type": "code",
   "execution_count": null,
   "id": "4e36e922-7ade-46e3-8ad1-7e2dd9f29d98",
   "metadata": {
    "tags": []
   },
   "outputs": [],
   "source": [
    "#Set DeepH2O absorption regions to NAN for better visual\n",
    "ds['reflectance'].data[ds['reflectance'].data == -0.01] = np.nan\n",
    "\n",
    "# Calculate Min and Max Reflectance values for visualization (error bars/area plot)\n",
    "ds['min_refl'] = ds['reflectance']-ds['reflectance_uncertainty']\n",
    "ds['max_refl'] = ds['reflectance']+ds['reflectance_uncertainty']\n",
    "ds"
   ]
  },
  {
   "cell_type": "markdown",
   "id": "758d0fc0-a9cc-465b-805f-c989250b3631",
   "metadata": {},
   "source": [
    "The cell below builds a series of widgets that can be used to interact with the spatial plot (map) of the data. The map can then be clicked to display a spectral plot of the selected pixel, as well as an additional spectra where the cursor is hovering on the map.\n",
    "\n",
    "To do:\n",
    "- Remove hardcoding that limits to L2A Reflectance and Orthorectified only datasets.\n",
    "- Better ways to control brightness/contrast?\n",
    "- The RGB plotting method could likely be improved. The final goal is to be able to add a mask and also show a basemap. Currently, adding basemap tiles using hvplot/geoviews disrupts the functionality of the point and click spectral plot.\n",
    "- Explore using hv.RGB instead of hvplot. The hvplot.rgb function doesn't seem to allow using a mask layer like the hv.RGB does, although using geoviews with the hv.RGB may not be possible. "
   ]
  },
  {
   "cell_type": "code",
   "execution_count": null,
   "id": "f3b1b223-f4d4-48d1-acb9-b1df1dc90a6e",
   "metadata": {
    "tags": []
   },
   "outputs": [],
   "source": [
    "# Function to build a new spectral plot based on mouse hover positional information retrieved from the RGB image using our full reflectance dataset\n",
    "# Select Widgets\n",
    "rgb_inds = np.array([np.nanargmin(abs(ds['wavelengths'].values - x)) for x in [650,560,470]])\n",
    "wl_list = ds['wavelengths'].data.tolist()\n",
    "wl_r = pn.widgets.Select(name='Wavelength 1 (R) (nm)',options=wl_list, value=wl_list[rgb_inds[0]])\n",
    "wl_g = pn.widgets.Select(name='Wavelength 2 (G) (nm)',options=wl_list, value=wl_list[rgb_inds[1]])\n",
    "wl_b = pn.widgets.Select(name='Wavelength 3 (B) (nm)',options=wl_list, value=wl_list[rgb_inds[2]])\n",
    "min_pct = pn.widgets.IntSlider(name='Minimum Percentile', value=1, start=1, end=100)\n",
    "max_pct = pn.widgets.IntSlider(name='Maximum Percentile', value=100, start=1, end=100)\n",
    "gamma_int = pn.widgets.IntSlider(name='Image Gamma', value=50, start=1, end=100)\n",
    "white_back = pn.widgets.Checkbox(name='White Backgroud')\n",
    "unc_check = pn.widgets.Checkbox(name='Show Uncertainty')\n",
    "# Define Function To Generate Map data using selection from widgets\n",
    "@pn.depends(wl_r,wl_g,wl_b, min_pct, max_pct, gamma_int, white_back, unc_check)\n",
    "def gen_map(wl_r, wl_g, wl_b, min_pct, max_pct, gamma_int, white_back, unc_check):\n",
    "    \n",
    "    # Create RGB Map\n",
    "            \n",
    "    # WL Selection\n",
    "    sel_inds = np.array([np.nanargmin(abs(ds['wavelengths'].values - x)) for x in [wl_r,wl_g,wl_b]])       \n",
    "    rgb = ds.sel(bands=(sel_inds))\n",
    "    rgb_array = rgb['reflectance'].data\n",
    "    #rgb_array = rgb_array.clip(0,1)        \n",
    "    plot_title=f'{round(wl_r,2)}, {round(wl_g,2)}, {round(wl_b,2)} nm color image'\n",
    "    \n",
    "    # Gamma Correction to 3-band image\n",
    "\n",
    "    rgb_array -= np.nanpercentile(rgb_array,min_pct,axis=(0,1))[np.newaxis,np.newaxis,:] # scale from 2-95 %\n",
    "    rgb_array /= np.nanpercentile(rgb_array,max_pct,axis=(0,1))[np.newaxis,np.newaxis,:]\n",
    "    rgb_array = rgb_array.clip(0,1)\n",
    "    gamma = math.log((gamma_int/250))/math.log(np.nanmean(rgb_array)) # baseline = 0.2, will create a range of 0-0.4\n",
    "    rgb_array = np.power(rgb_array,gamma).clip(0,1)\n",
    "    if white_back:\n",
    "        rgb_array= np.nan_to_num(rgb_array, nan=1) # Is there a better way to implement what is essentially a mask\n",
    "    \n",
    "    # Put back into xarray\n",
    "    rgb['reflectance'].data = rgb_array\n",
    "    \n",
    "    # Drop excess variables and rename reflectance to RGB\n",
    "    rgb = rgb.drop_vars(('fwhm','good_wavelengths','wavelengths'))\n",
    "    rgb = rgb.rename({'reflectance':'rgb'})\n",
    "    # Create Map to return   \n",
    "    map = rgb.hvplot.rgb(x='longitude',y='latitude', bands='bands', geo=True, frame_width=400, frame_height=400).opts(title=plot_title)  # use aspect='equal' option?\n",
    "    \n",
    "    # Add interactive spectral plot \n",
    "    # Function to build a new spectral plot based on mouse hover positional information retrieved from the RGB image using our full reflectance dataset \n",
    "    def point_spectra(x,y):\n",
    "        point = ds.sel(longitude=x,latitude=y,method='nearest')\n",
    "        pointer_rfl_plot = point.hvplot.line(y='reflectance',x='wavelengths', frame_width=400)\n",
    "        if unc_check:\n",
    "            pointer_unc_plot = point.hvplot.area(x='wavelengths', y='min_refl', y2='max_refl', alpha=0.2)\n",
    "            point_out = pointer_rfl_plot.opts(title = f'Latitude = {point.latitude.values.round(3)}, Longitude = {point.longitude.values.round(3)}')*pointer_unc_plot\n",
    "        else:\n",
    "            point_out = pointer_rfl_plot.opts(title = f'Latitude = {point.latitude.values.round(3)}, Longitude = {point.longitude.values.round(3)}')            \n",
    "        return point_out\n",
    "\n",
    "    # Function to build spectral plot of clicked location to show on hover stream plot\n",
    "    def click_spectra(x,y):\n",
    "        clicked = ds.sel(longitude=x,latitude=y,method='nearest')\n",
    "        clicked_rfl_plot = clicked.hvplot.line(y='reflectance',x='wavelengths', frame_width=400)\n",
    "        if unc_check:\n",
    "            clicked_unc_plot = clicked.hvplot.area(x='wavelengths', y='min_refl', y2='max_refl', alpha=0.2)\n",
    "            clicked_out = clicked_rfl_plot*clicked_unc_plot.opts(title = f'Latitude = {clicked.latitude.values.round(3)}, Longitude = {clicked.longitude.values.round(3)}')\n",
    "        else:\n",
    "            clicked_out = clicked_rfl_plot.opts(title = f'Latitude = {clicked.latitude.values.round(3)}, Longitude = {clicked.longitude.values.round(3)}')\n",
    "        return clicked_out \n",
    "    \n",
    "    # Stream of X and Y positional data\n",
    "    posxy = hv.streams.PointerXY(source=map, x=-2.1, y=16.86) \n",
    "    clickxy = hv.streams.Tap(source=map, x=-2.1, y=16.86)   \n",
    "    \n",
    "    # Define the Dynamic Maps\n",
    "    point_dmap = hv.DynamicMap(point_spectra, streams=[posxy])\n",
    "    click_dmap = hv.DynamicMap(click_spectra, streams=[clickxy])\n",
    "    \n",
    "    return map+point_dmap*click_dmap\n",
    "pn.Row(pn.WidgetBox(wl_r,wl_g,wl_b, min_pct, max_pct, gamma_int, white_back, unc_check), gen_map)   "
   ]
  },
  {
   "cell_type": "markdown",
   "id": "ad292172-f47c-4076-96f8-bdcc90062d9b",
   "metadata": {},
   "source": [
    "Single Layer Interactive Plot with Masking Note: basemap breaks interactive plotting - not sure whats going on with addition of tiles that causes this."
   ]
  },
  {
   "cell_type": "code",
   "execution_count": null,
   "id": "65efedc8-85d2-4653-94bf-ff3aee510ab7",
   "metadata": {},
   "outputs": [],
   "source": [
    "# Function to build a new spectral plot based on mouse hover positional information retrieved from the RGB image using our full reflectance dataset \n",
    "def point_spectra(x,y):\n",
    "    point = ds.sel(longitude=x,latitude=y,method='nearest')\n",
    "    pointer_rfl_plot = point.hvplot.line(y='reflectance',x='wavelengths', frame_width=400)\n",
    "    pointer_unc_plot = point.hvplot.area(x='wavelengths', y='min_refl', y2='max_refl', alpha=0.2)\n",
    "    point_out = pointer_rfl_plot.opts(title = f'Latitude = {point.latitude.values.round(3)}, Longitude = {point.longitude.values.round(3)}')*pointer_unc_plot\n",
    "    return point_out\n",
    "\n",
    "# Function to build spectral plot of clicked location to show on hover stream plot\n",
    "def click_spectra(x,y):\n",
    "    clicked = ds.sel(longitude=x,latitude=y,method='nearest')\n",
    "    clicked_rfl_plot = clicked.hvplot.line(y='reflectance',x='wavelengths', frame_width=400)\n",
    "    clicked_unc_plot = clicked.hvplot.area(x='wavelengths', y='min_refl', y2='max_refl', alpha=0.2)\n",
    "    clicked_out = clicked_rfl_plot*clicked_unc_plot.opts(title = f'Latitude = {clicked.latitude.values.round(3)}, Longitude = {clicked.longitude.values.round(3)}')\n",
    "    return clicked_out\n",
    "\n",
    "# Preliminary Mask Selection List\n",
    "mask_layer_list = ['None']+ds_mask['mask_bands'].data.tolist()\n",
    "# AOD and H2O are not masks, they have values - We could add this as mask layers, but we should allow users \n",
    "## to provide the threshold values because they will vary based on the type of research\n",
    "mask_rm = ['AOD550','H2O (g cm-2)']\n",
    "mask_layer_list = [m for m in mask_layer_list if m not in mask_rm]\n",
    "\n",
    "# Select Widgets\n",
    "wavelength = pn.widgets.Select(name='Wavelength (nm)',options=ds['wavelengths'].data.tolist())\n",
    "mask_name = pn.widgets.Select(name='Mask Band',options=mask_layer_list)\n",
    "basemap = pn.widgets.Checkbox(name='Show Basemap')\n",
    "alpha = pn.widgets.IntSlider(name='Transparency', value=100, start=0, end=100)\n",
    "\n",
    "# Define Function To Generate Map data using selection from widgets\n",
    "@pn.depends(wavelength, basemap, alpha, mask_name)\n",
    "def gen_map(wavelength, basemap, alpha, mask_name):\n",
    "    \n",
    "    # WL Selection\n",
    "    band_index = np.nanargmin(abs(ds['wavelengths'].values-wavelength))\n",
    "    layer_ds = ds['reflectance'].sel(bands=band_index)\n",
    "    plot_title=f'{wavelength} nm'\n",
    "    \n",
    "    # Mask Selection\n",
    "    \n",
    "    # How to handle added index of none\n",
    "    if mask_name == 'None':\n",
    "        mask_layer = ds_mask['mask'].sel(bands=0)\n",
    "        mask_layer.data = np.full((mask_layer.data.shape[0],mask_layer.data.shape[1]),1,dtype='int')\n",
    "    \n",
    "    # How to handle non-AOD and non-H2O  - Note masks need to be inverted to be applied using the method below\n",
    "    else: \n",
    "        mask_index = ds_mask['mask_bands'].data.tolist().index(mask_name)\n",
    "        mask_layer = ds_mask['mask'].sel(bands=mask_index)\n",
    "        mask_layer.data = np.nan_to_num(mask_layer.data).astype('int')\n",
    "        # Invert and apply mask\n",
    "        mask_layer.data = np.where((mask_layer.data==0)|(mask_layer.data==1), mask_layer.data^1, mask_layer.data)\n",
    "        \n",
    "    \n",
    "    # BaseMap - additional tiles could be used or added as a selection instead of checkbox\n",
    "    if basemap:\n",
    "        tile = 'EsriImagery'\n",
    "    else:\n",
    "        tile = None\n",
    "    \n",
    "    # Create Map to return\n",
    "    map = layer_ds.where(mask_layer).hvplot.image(x='longitude',y='latitude',cmap='viridis', geo=True, tiles=tile, frame_width=400, alpha=(alpha/100)).opts(title=plot_title)\n",
    "    \n",
    "    # Stream of X and Y positional data\n",
    "    posxy = hv.streams.PointerXY(source=map, x=-2.1, y=16.86) \n",
    "    clickxy = hv.streams.Tap(source=map, x=-2.1, y=16.86)\n",
    "    \n",
    "    # Stream of X and Y positional data\n",
    "    posxy = hv.streams.PointerXY(source=map, x=-2.1, y=16.86) \n",
    "    clickxy = hv.streams.Tap(source=map, x=-2.1, y=16.86)\n",
    "    \n",
    "    # Define the Dynamic Maps\n",
    "    point_dmap = hv.DynamicMap(point_spectra, streams=[posxy])\n",
    "    click_dmap = hv.DynamicMap(click_spectra, streams=[clickxy])\n",
    "    \n",
    "    return map+point_dmap*click_dmap\n",
    "pn.Row(pn.WidgetBox('## Layer Comparison',wavelength, mask_name, alpha, basemap), gen_map)"
   ]
  }
 ],
 "metadata": {
  "kernelspec": {
   "display_name": "Python 3 (ipykernel)",
   "language": "python",
   "name": "python3"
  },
  "language_info": {
   "codemirror_mode": {
    "name": "ipython",
    "version": 3
   },
   "file_extension": ".py",
   "mimetype": "text/x-python",
   "name": "python",
   "nbconvert_exporter": "python",
   "pygments_lexer": "ipython3",
   "version": "3.9.16"
  }
 },
 "nbformat": 4,
 "nbformat_minor": 5
}
